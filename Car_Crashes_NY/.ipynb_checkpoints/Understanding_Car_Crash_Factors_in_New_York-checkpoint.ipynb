{
 "cells": [
  {
   "cell_type": "markdown",
   "id": "74c35b78-fdb8-45f4-81e6-7c5a7f0f2d8c",
   "metadata": {},
   "source": [
    "# Understanding Car Crash Trends and Factors in New York: A Data Analysis\n",
    "\n"
   ]
  },
  {
   "cell_type": "markdown",
   "id": "f744d9de-61eb-467c-aa9e-6b0b6c20d291",
   "metadata": {},
   "source": [
    "## Introduction:\n",
    "In the city of New York, a total of 2,018,890 car accidents occurred during the period from 2012 to 2022. Among these, approximately 2,930 accidents resulted in fatalities, tragically claiming at least one life. In this comprehensive data analysis project, we embark on an exploration of the realm of automobile accidents in New York. Our overarching objective is to discern the temporal trends inherent in these accidents and to identify the contributing factors that lead to the most severe and devastating incidents.\n",
    "\n",
    "#### The central question we seek to address in this analysis is:\n",
    "\n",
    "<i>\"What temporal trends and patterns characterize car accidents in New York, and how can we discern the factors that significantly influence the severity of these accidents?\"</i>\n",
    "\n",
    "As we conclude this investigation, we shall also consider a pivotal question regarding public safety in New York, and indeed, in other sprawling metropolises:\n",
    "\n",
    "<i>\"What measures can be undertaken to enhance the safety of pedestrians and motorists in New York, and by extension, in similarly large urban areas?\"</i>\n",
    "\n",
    "This report endeavors to shed light on these critical aspects, employing meticulous data analysis to yield insights that may guide future safety initiatives and potentially save lives.\n"
   ]
  },
  {
   "cell_type": "markdown",
   "id": "a89c1e56-556b-4c84-b838-b36afe0a5ed0",
   "metadata": {},
   "source": [
    "Data Cleaning:\n",
    "Before diving into the analysis, we rigorously cleaned and prepared the dataset. This involved handling missing values, removing duplicates, and converting data types, ensuring the dataset's integrity."
   ]
  },
  {
   "cell_type": "markdown",
   "id": "a840718e-b81d-4fe3-8401-f1fa01ae4e97",
   "metadata": {},
   "source": [
    "## Exploratory Data Analysis:\n",
    "### Analysis of Temporal Trends:\n",
    "\n",
    "In this section, we aim to discern underlying patterns in accident occurrences over the course of a day. Our initial hypothesis was that a significant number of accidents would take place during the late afternoon, a time when commuters may be fatigued from a full day's work, potentially stressed, and more prone to accidents.\n",
    "\n",
    "Our findings corroborate this hypothesis. The data unequivocally supports that the majority of accidents do indeed occur during this late afternoon period, validating my assumptions.\n"
   ]
  },
  {
   "cell_type": "markdown",
   "id": "4775dd53-8772-4dae-b215-0b2c1d9b6bea",
   "metadata": {
    "tags": []
   },
   "source": [
    "![accidents_by_hour_in_ny](accidents_by_hour.png)\n",
    "<small><i>\n",
    "Figure 1: Time of day with highest accidents (2012-2022).\n",
    "Figure 1 displays the temporal distribution of accidents over the decade from 2012 to 2022, revealing when the most accidents occurred during the day. Source: Appendix 1</i></small>"
   ]
  },
  {
   "cell_type": "markdown",
   "id": "751075ee-4ed8-422b-9dc9-83ab8316afc0",
   "metadata": {},
   "source": [
    "## Seasonal Patterns: \n",
    "\n",
    "Our next exploration delved into the influence of seasons on accident occurrences. Notably, a distinct pattern emerged, with the majority of car accidents concentrated in the summer and fall months. This trend can be attributed to the increased outdoor activities during the summer, including biking and leisurely pursuits. The higher incidence in the fall may be attributed to factors such as falling leaves and adverse weather conditions, rendering the environment more hazardous for pedestrians and cyclists."
   ]
  },
  {
   "cell_type": "markdown",
   "id": "2fc4eb95-7421-44a1-877d-6f7cd6fbaad4",
   "metadata": {},
   "source": [
    "![accidents_by_month_in_ny](accidents_by_month.png)\n",
    "<small><i>\n",
    "Figure 2: Accidents by month (2012-2022).\n",
    "Figure 2 displays the temporal distribution of accidents over the decade from 2012 to 2022, revealing when the most accidents occurred during the year. Source: Appendix 1</i></small>"
   ]
  },
  {
   "cell_type": "markdown",
   "id": "1731e927-b6d9-4c0d-8833-03dfc4bc8e28",
   "metadata": {},
   "source": [
    "## Analyzing Weekly Accident Trends:\n",
    "\n",
    "Our analysis extended to examining whether there is a specific day of the week when accidents tend to occur at a higher rate. The outcome revealed Friday as the standout day with the highest proportion of accidents.\n",
    "\n",
    "Both Thursdays and Fridays witnessed an increased frequency of accidents, notably during late afternoon rush hours. This heightened occurrence during the week's end may be attributed to factors such as driver fatigue from a week of work or reduced focus on the road due to a mental switch toward the weekend."
   ]
  },
  {
   "cell_type": "markdown",
   "id": "7d610ae8-7624-4e38-875b-81af16d02e19",
   "metadata": {},
   "source": [
    "![accidents_by_weekday_in_ny](accidents_by_weekday.png)\n",
    "<small><i>\n",
    "Figure 3: Accidents by weekday (2012-2022).\n",
    "Figure 3 shows that most accidents happen during friday. Source: Appendix 1</i></small>"
   ]
  },
  {
   "cell_type": "markdown",
   "id": "39d6be50-57c6-4fbc-89ca-1458f8e32513",
   "metadata": {},
   "source": [
    "## Geospatial Analysis:\n",
    "In an effort to discern patterns and potential factors contributing to accident occurrence, a comprehensive analysis was undertaken to identify streets with the highest incidence of accidents. Such insights can be invaluable for the development of accident prevention strategies. The findings reveal that a select group of five streets consistently report a significantly higher number of accidents compared to others. Chief among them is the renowned Broadway, which stands out as the street with the highest accident rate by a substantial margin."
   ]
  },
  {
   "cell_type": "markdown",
   "id": "1a04aa4b-7d62-4656-8965-5f101d22065e",
   "metadata": {},
   "source": [
    "![accidents_by_streets_in_ny](accidents_by_streets.png)\n",
    "<small><i>\n",
    "Figure 4: Accidents by streets (2012-2022).\n",
    "Figure 4 shows that most accidents happen on Boradway. Source: Appendix 1</i></small>"
   ]
  },
  {
   "cell_type": "markdown",
   "id": "6bfd7a34-d128-4ad1-8b16-cc1494d93d63",
   "metadata": {},
   "source": [
    "## Contributing factors:\n",
    "Regrettably, the dataset exhibits a substantial number of missing values concerning contributing factors to accidents. Nevertheless, a careful analysis allows us to derive meaningful insights. Notably, it becomes evident that a significant portion of accidents is attributed to driver inattention and distraction. It simplifies our understanding to classify factors like 'Following Too Closely,' 'Turning Improperly,' 'Backing Unsafely,' and 'Unsafe Lane Changing' under the umbrella of driver distraction, assuming that these actions often result from a lapse in driver attention rather than deliberate actions.\n",
    "\n",
    "While it's tempting to speculate that the prevalent use of mobile phones could be a primary cause of distraction, the available data does not provide explicit evidence to support this claim. Consequently, focusing solely on reducing phone usage as a preventative measure may not be the most effective approach.\n"
   ]
  },
  {
   "cell_type": "markdown",
   "id": "17976cdd-3ee0-4fe3-a9c7-3156f718eb98",
   "metadata": {},
   "source": [
    "## Conclusions:\n",
    "The analysis reveals a noteworthy trend, with the majority of accidents occurring during the late afternoons of Thursdays and Fridays, particularly during the warmer months of summer and fall. Understanding and addressing this specific pattern provides an opportunity to enhance safety for both pedestrians and motorists.\n",
    "\n",
    "In the quest for accident prevention and improved road safety, targeted interventions should focus on mitigating the risks associated with these high-incidence periods. The central question revolves around how to effectively minimize accidents during these peak hours and seasons. This requires a strategic approach that may encompass a range of measures, including enhanced traffic management, public awareness campaigns, and infrastructure enhancements tailored to these specific conditions."
   ]
  },
  {
   "cell_type": "markdown",
   "id": "d17c0d74-b011-461b-acb7-11009581f86d",
   "metadata": {},
   "source": [
    "## Recommendations:\n",
    "To enhance accident prevention based on this dataset, we must consider alternative strategies. Implementing prominent signage, strategically placed bumpers, and other attention-grabbing measures could redirect drivers' focus and mitigate the risks associated with distracted driving. This multi-faceted approach to road safety can play a vital role in accident prevention and underscores the importance of addressing driver distraction through various means.\n",
    "\n",
    "The issue of distracted driving is a significant concern for road safety. While it's commonly associated with mobile phone use, it's important to recognize that distraction can arise from various sources. Addressing this issue requires a holistic approach, which may include public awareness campaigns, stricter enforcement of existing laws, and the development of new technologies designed to reduce distractions in vehicles. Additionally, road infrastructure improvements, such as well-designed signage and traffic management systems, can play a crucial role in enhancing safety and preventing accidents.\n",
    "Based on our findings, we recommend enhanced road maintenance during summer months, targeted awareness campaigns for high-accident areas, and safe driving initiatives during peak accident times.\n",
    "\n",
    "Various strategic interventions can be considered to address the pressing issue of traffic congestion and road safety. Among these, political incentives, such as the implementation of discounted metro tickets during peak hours, have the potential to incentivize individuals to opt for public transportation over personal vehicles. This measure, if carefully designed, could alleviate the overall burden on road networks. Complementing this, the imposition of speed limitations in accident-prone zones can contribute significantly to accident prevention.\n",
    "\n",
    "These proactive steps not only enhance road safety but also underscore the importance of a comprehensive approach that encompasses infrastructure improvements, policy changes, and public awareness initiatives.\n",
    "\n",
    "## Appendix 1:\n",
    "For those interested in the technical details, I have included code snippets of data cleaning and visualization in the appendix."
   ]
  }
 ],
 "metadata": {
  "kernelspec": {
   "display_name": "Python 3 (ipykernel)",
   "language": "python",
   "name": "python3"
  },
  "language_info": {
   "codemirror_mode": {
    "name": "ipython",
    "version": 3
   },
   "file_extension": ".py",
   "mimetype": "text/x-python",
   "name": "python",
   "nbconvert_exporter": "python",
   "pygments_lexer": "ipython3",
   "version": "3.11.4"
  }
 },
 "nbformat": 4,
 "nbformat_minor": 5
}
